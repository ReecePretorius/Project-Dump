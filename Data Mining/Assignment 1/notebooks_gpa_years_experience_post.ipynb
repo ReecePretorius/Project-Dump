{
  "metadata": {
    "kernelspec": {
      "name": "python",
      "display_name": "Python (Pyodide)",
      "language": "python"
    },
    "language_info": {
      "codemirror_mode": {
        "name": "python",
        "version": 3
      },
      "file_extension": ".py",
      "mimetype": "text/x-python",
      "name": "python",
      "nbconvert_exporter": "python",
      "pygments_lexer": "ipython3",
      "version": "3.8"
    }
  },
  "nbformat_minor": 4,
  "nbformat": 4,
  "cells": [
    {
      "cell_type": "markdown",
      "source": "Reece Pretorius: V00880300 AND\nBerkan Ozturk: V00892651\n\n## Linear Regression from scratch\n\nThe goal of this exercise is to implement the linear regression algorithm. \nThe dataset is about predicting salary given gpa and years of experience. \nThe steps to implement are as follows.  \n\n1.\tRead the data from a file (gpa_year_experience.csv)\n2.\tScale the attributes\n3.\tCompute the error at each iteration and save the error values in vector\n4.\tPlot the error vector as a curve in the end\n5.\tPredict a new instance.\n6.  Compare with SGDRegressor\n7.  Create polynomial features and predict new instance   ",
      "metadata": {}
    },
    {
      "cell_type": "code",
      "source": "# import libraries\nimport pandas as pd\nimport numpy as np\nimport matplotlib.pyplot as plt\nfrom sklearn.preprocessing import MinMaxScaler\n\n# ignore warnings\nimport warnings\nwarnings.filterwarnings('ignore')",
      "metadata": {
        "trusted": true
      },
      "execution_count": 55,
      "outputs": []
    },
    {
      "cell_type": "code",
      "source": "# load data and show first 5 rows\ndata = pd.read_csv('raw.githubusercontent.com_thomouvic_SENG474_main_data_gpa_years_experience.csv')\ndata.head()",
      "metadata": {
        "trusted": true
      },
      "execution_count": 56,
      "outputs": [
        {
          "execution_count": 56,
          "output_type": "execute_result",
          "data": {
            "text/plain": "   gpa  years_of_experience  salary\n0   70                  1.0      50\n1   80                  2.0      55\n2   65                  2.0      45\n3   70                  2.5      60\n4   65                  2.7      58",
            "text/html": "<div>\n<style scoped>\n    .dataframe tbody tr th:only-of-type {\n        vertical-align: middle;\n    }\n\n    .dataframe tbody tr th {\n        vertical-align: top;\n    }\n\n    .dataframe thead th {\n        text-align: right;\n    }\n</style>\n<table border=\"1\" class=\"dataframe\">\n  <thead>\n    <tr style=\"text-align: right;\">\n      <th></th>\n      <th>gpa</th>\n      <th>years_of_experience</th>\n      <th>salary</th>\n    </tr>\n  </thead>\n  <tbody>\n    <tr>\n      <th>0</th>\n      <td>70</td>\n      <td>1.0</td>\n      <td>50</td>\n    </tr>\n    <tr>\n      <th>1</th>\n      <td>80</td>\n      <td>2.0</td>\n      <td>55</td>\n    </tr>\n    <tr>\n      <th>2</th>\n      <td>65</td>\n      <td>2.0</td>\n      <td>45</td>\n    </tr>\n    <tr>\n      <th>3</th>\n      <td>70</td>\n      <td>2.5</td>\n      <td>60</td>\n    </tr>\n    <tr>\n      <th>4</th>\n      <td>65</td>\n      <td>2.7</td>\n      <td>58</td>\n    </tr>\n  </tbody>\n</table>\n</div>"
          },
          "metadata": {}
        }
      ]
    },
    {
      "cell_type": "code",
      "source": "# prepare data, split columns into X and y\n# X should be a numpy array of shape (m, n), use .values to convert from dataframe to numpy array\nX = data[['years_of_experience', 'salary']].values\n# y should be a numpy array of shape (m,), use .values to convert from dataframe to numpy array\ny = data['gpa'].values",
      "metadata": {
        "trusted": true
      },
      "execution_count": 57,
      "outputs": []
    },
    {
      "cell_type": "code",
      "source": "# extract m and n from X using X.shape[0] to get m and X.shape[1] to get n\nm = X.shape[0]\nn = X.shape[1]",
      "metadata": {
        "trusted": true
      },
      "execution_count": 58,
      "outputs": []
    },
    {
      "cell_type": "code",
      "source": "# y should be a numpy array of shape (m, 1), use reshape(m, 1) to reshape y from (m,) to (m, 1)\ny = y.reshape(m, 1)",
      "metadata": {
        "trusted": true
      },
      "execution_count": 59,
      "outputs": []
    },
    {
      "cell_type": "code",
      "source": "# normalize X using min-max scaler (sklearn.preprocessing.MinMaxScaler)\nscaler = MinMaxScaler()\n\n# Normalize the input features (X)\nX = scaler.fit_transform(X)\n\nprint(\"X:\")\nprint(X)",
      "metadata": {
        "trusted": true
      },
      "execution_count": 60,
      "outputs": [
        {
          "name": "stdout",
          "text": "X:\n[[0.         0.11111111]\n [0.125      0.22222222]\n [0.125      0.        ]\n [0.1875     0.33333333]\n [0.2125     0.28888889]\n [0.25       0.33333333]\n [0.25       0.44444444]\n [0.275      0.48888889]\n [0.3125     0.22222222]\n [0.3375     0.33333333]\n [0.375      0.44444444]\n [0.4375     0.55555556]\n [0.5        0.73333333]\n [0.5625     0.66666667]\n [0.6        0.73333333]\n [0.625      0.55555556]\n [0.625      0.77777778]\n [0.6875     0.82222222]\n [0.75       0.66666667]\n [0.75       0.88888889]\n [0.8125     0.77777778]\n [0.875      0.82222222]\n [0.9375     0.88888889]\n [0.9625     1.        ]\n [1.         0.88888889]]\n",
          "output_type": "stream"
        }
      ]
    },
    {
      "cell_type": "code",
      "source": "# add dummy feature to X using scikit-learn dummy feature (sklearn.preprocessing.add_dummy_feature)\nfrom sklearn.preprocessing import add_dummy_feature\n\n# Add a dummy feature to X\nX = add_dummy_feature(X)\n\n# Printing the X with dummy feature\nprint(\"X with dummy feature:\")\nprint(X)",
      "metadata": {
        "trusted": true
      },
      "execution_count": 61,
      "outputs": [
        {
          "name": "stdout",
          "text": "X with dummy feature:\n[[1.         0.         0.11111111]\n [1.         0.125      0.22222222]\n [1.         0.125      0.        ]\n [1.         0.1875     0.33333333]\n [1.         0.2125     0.28888889]\n [1.         0.25       0.33333333]\n [1.         0.25       0.44444444]\n [1.         0.275      0.48888889]\n [1.         0.3125     0.22222222]\n [1.         0.3375     0.33333333]\n [1.         0.375      0.44444444]\n [1.         0.4375     0.55555556]\n [1.         0.5        0.73333333]\n [1.         0.5625     0.66666667]\n [1.         0.6        0.73333333]\n [1.         0.625      0.55555556]\n [1.         0.625      0.77777778]\n [1.         0.6875     0.82222222]\n [1.         0.75       0.66666667]\n [1.         0.75       0.88888889]\n [1.         0.8125     0.77777778]\n [1.         0.875      0.82222222]\n [1.         0.9375     0.88888889]\n [1.         0.9625     1.        ]\n [1.         1.         0.88888889]]\n",
          "output_type": "stream"
        }
      ]
    },
    {
      "cell_type": "code",
      "source": "# print shapes of X and y\n# X should be (m, n+1) and y should be (m, 1)\nprint(\"m: \" + str(m) + \" n: \" + str(n))\nprint(X.shape, y.shape)",
      "metadata": {
        "trusted": true
      },
      "execution_count": 62,
      "outputs": [
        {
          "name": "stdout",
          "text": "m: 25 n: 2\n(25, 3) (25, 1)\n",
          "output_type": "stream"
        }
      ]
    },
    {
      "cell_type": "code",
      "source": "eta = 0.1 # learning rate\nn_epochs = 10\nnp.random.seed(42) # set random seed to 42 for reproducibility\n\n# create theta, of shape (n+1, 1) and initialize it to random values using np.random.randn\ntheta = np.random.randn(n + 1, 1)\n\nE = [] # list to store errors at each epoch\n# compute error for initial theta and append to E\ny_pred = X.dot(theta)  # Compute predicted y using initial theta\nerror = np.mean((y_pred - y) ** 2)  # Compute mean squared error\nE.append(error)\n\nprint(E)\n\n# loop over n_epochs\n# for each epoch: compute gradients, update theta, compute error, append error to E\nfor epoch in range(n_epochs):\n    # Compute gradients\n    gradients = 2 * X.T.dot(X.dot(theta) - y) / len(y)\n    \n    # Update theta\n    theta -= eta * gradients\n    \n    # Compute error and append to E\n    y_pred = X.dot(theta)\n    error = np.mean((y_pred - y) ** 2)\n    E.append(error)\n\n    print(\"Epoch:\", epoch + 1, \"Error:\", error)\n\n# plot error vs epoch\nimport matplotlib.pyplot as plt\n\nplt.plot(range(0, n_epochs + 1), E)\nplt.xlabel('Epoch')\nplt.ylabel('Error')\nplt.title('Error vs. Epoch')\nplt.show()\n\n# print final theta\nprint(theta)",
      "metadata": {
        "trusted": true
      },
      "execution_count": 63,
      "outputs": [
        {
          "name": "stdout",
          "text": "[5749.589749931849]\nEpoch: 1 Error: 2736.187031745364\nEpoch: 2 Error: 1359.9854943545083\nEpoch: 3 Error: 730.1947416446475\nEpoch: 4 Error: 440.74479889615264\nEpoch: 5 Error: 306.52547844858145\nEpoch: 6 Error: 243.15116819640488\nEpoch: 7 Error: 212.1516416235426\nEpoch: 8 Error: 195.98730048929056\nEpoch: 9 Error: 186.65987644008447\nEpoch: 10 Error: 180.52061868894933\n",
          "output_type": "stream"
        },
        {
          "output_type": "display_data",
          "data": {
            "text/plain": "<Figure size 640x480 with 1 Axes>",
            "image/png": "[encoded data removed]"
          },
          "metadata": {}
        },
        {
          "name": "stdout",
          "text": "[[48.6184372 ]\n [20.16412857]\n [24.86062966]]\n",
          "output_type": "stream"
        }
      ]
    },
    {
      "cell_type": "code",
      "source": "# let's predict the salary for a person who has gpa=70 and years_of_experience=3. \n# create a numpy array x of shape (1, 2) with these values\nx = np.array([[70, 3]])\n# scale features using the same scaler we used earlier\nx = scaler.fit_transform(x)\n# insert dummy feature using dummy feature function\nx = add_dummy_feature(x)\n# Predict salary of x\npredicted_salary = x.dot(theta).round(1)\n\nprint(\"Predicted Salary:\")\nprint(predicted_salary)",
      "metadata": {
        "trusted": true
      },
      "execution_count": 64,
      "outputs": [
        {
          "name": "stdout",
          "text": "Predicted Salary:\n[[48.6]]\n",
          "output_type": "stream"
        }
      ]
    },
    {
      "cell_type": "code",
      "source": "# Let's compare with scikit-learn's SGDRegressor\n# use SGDRegressor from scikit-learn to fit the data\n# use max_iter=1000, eta0=0.1, random_state=42\nfrom sklearn.linear_model import SGDRegressor\n\n# Create an instance of SGDRegressor\nregressor = SGDRegressor(max_iter=1000, eta0=0.1, random_state=42)\n\n# Fit the data\nregressor.fit(X, y)\n\n# Print the coefficients\nprint(\"Coefficients:\")\nprint(regressor.coef_)\nprint(\"Intercept:\")\nprint(regressor.intercept_)",
      "metadata": {
        "trusted": true
      },
      "execution_count": 65,
      "outputs": [
        {
          "name": "stdout",
          "text": "Coefficients:\n[34.06352249  0.27230058 12.92480372]\nIntercept:\n[34.1372141]\n",
          "output_type": "stream"
        }
      ]
    },
    {
      "cell_type": "code",
      "source": "# predict salary of x using sgd\npredicted_salary = regressor.predict(x).round(1)\nprint(\"Predicted Salary:\")\nprint(predicted_salary)",
      "metadata": {
        "trusted": true
      },
      "execution_count": 67,
      "outputs": [
        {
          "name": "stdout",
          "text": "Predicted Salary:\n[68.2]\n",
          "output_type": "stream"
        }
      ]
    },
    {
      "cell_type": "code",
      "source": "# create polynomial features of degree 2 using scikit-learn PolynomialFeatures\nfrom sklearn.preprocessing import PolynomialFeatures\n\n# Create an instance of PolynomialFeatures\npoly_features = PolynomialFeatures(degree=2)\n\n# create X_poly using fit_transform\nX_poly = poly_features.fit_transform(X)\n\n# create x_poly using transform\nx_poly = poly_features.transform(x)\n\n# fit the data using SGDRegressor\nregressor.fit(X_poly, y)\n\n# predict salary of x using sgd\npredicted_salary = regressor.predict(x_poly).round(1)\n\nprint(\"Predicted Salary:\")\nprint(predicted_salary)",
      "metadata": {
        "trusted": true
      },
      "execution_count": 70,
      "outputs": [
        {
          "name": "stdout",
          "text": "Predicted Salary:\n[69.4]\n",
          "output_type": "stream"
        }
      ]
    },
    {
      "cell_type": "code",
      "source": "",
      "metadata": {},
      "execution_count": null,
      "outputs": []
    }
  ]
}